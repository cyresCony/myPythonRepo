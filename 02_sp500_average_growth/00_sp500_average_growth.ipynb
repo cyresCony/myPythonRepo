{
 "cells": [
  {
   "cell_type": "code",
   "execution_count": 276,
   "metadata": {},
   "outputs": [],
   "source": [
    "import numpy as np\n",
    "import pandas as pd\n",
    "import pandas_datareader as web\n",
    "from matplotlib.pyplot import figure\n",
    "from IPython.display import display, Math, Latex\n",
    "from matplotlib.legend_handler import HandlerLine2D"
   ]
  },
  {
   "cell_type": "code",
   "execution_count": 277,
   "metadata": {},
   "outputs": [
    {
     "name": "stdout",
     "output_type": "stream",
     "text": [
      "Number of days: 15519\n"
     ]
    }
   ],
   "source": [
    "sp500 = web.get_data_yahoo('^GSPC', '1957-04-03', '2018-12-24', interval='d')\n",
    "print(\"Number of days: \" + str(len(sp500['Close'])))"
   ]
  },
  {
   "cell_type": "code",
   "execution_count": 278,
   "metadata": {},
   "outputs": [
    {
     "name": "stderr",
     "output_type": "stream",
     "text": [
      "/home/cy/anaconda3/lib/python3.7/site-packages/ipykernel_launcher.py:7: SettingWithCopyWarning: \n",
      "A value is trying to be set on a copy of a slice from a DataFrame\n",
      "\n",
      "See the caveats in the documentation: http://pandas.pydata.org/pandas-docs/stable/indexing.html#indexing-view-versus-copy\n",
      "  import sys\n",
      "/home/cy/anaconda3/lib/python3.7/site-packages/ipykernel_launcher.py:5: SettingWithCopyWarning: \n",
      "A value is trying to be set on a copy of a slice from a DataFrame\n",
      "\n",
      "See the caveats in the documentation: http://pandas.pydata.org/pandas-docs/stable/indexing.html#indexing-view-versus-copy\n",
      "  \"\"\"\n"
     ]
    }
   ],
   "source": [
    "sLength = len(sp500['Close'])\n",
    "sp500['Change'] = pd.Series(np.zeros(sLength), index=sp500.index)\n",
    "for i in range(len(sp500['Close'])):\n",
    "    if i > 0:\n",
    "        sp500['Change'][i] = sp500['Close'][i] / sp500['Close'][i-1] * 100 - 100\n",
    "    else:\n",
    "        sp500['Change'][i] = float('NaN')"
   ]
  },
  {
   "cell_type": "code",
   "execution_count": 279,
   "metadata": {},
   "outputs": [],
   "source": [
    "#sp500['252d'] = sp500['Close'].rolling(window = 252).mean()"
   ]
  },
  {
   "cell_type": "code",
   "execution_count": 280,
   "metadata": {},
   "outputs": [
    {
     "name": "stdout",
     "output_type": "stream",
     "text": [
      "Average growth per day: 0.07528372034870953 Points\n"
     ]
    }
   ],
   "source": [
    "sumDiff = 0\n",
    "for i in range(len(sp500['Close'])):\n",
    "    sumDiff = sumDiff + (sp500['Close'][i] - sp500['Close'][0])\n",
    "\n",
    "gaussianSum = (len(sp500['Close'])**2 + len(sp500['Close']))/2\n",
    "avGrowth = sumDiff / gaussianSum\n",
    "print(\"Average growth per day: \" + str(avGrowth) + \" Points\")"
   ]
  },
  {
   "cell_type": "code",
   "execution_count": 309,
   "metadata": {},
   "outputs": [
    {
     "data": {
      "text/latex": [
       "$$Growth_{Average} = \\sum_{i = 1}^{Number\\ of\\ days} x_i\\quad +\\quad \\frac{Number\\ of\\ days^2 \\cdot Number\\ of\\ days}{2}$$"
      ],
      "text/plain": [
       "<IPython.core.display.Math object>"
      ]
     },
     "metadata": {},
     "output_type": "display_data"
    }
   ],
   "source": [
    "from IPython.display import display, Math, Latex\n",
    "display(Math(r'Growth_{Average} = \\sum_{i = 1}^{Number\\ of\\ days} x_i\\quad +\\quad \\frac{Number\\ of\\ days^2 \\cdot Number\\ of\\ days}{2}'))"
   ]
  },
  {
   "cell_type": "code",
   "execution_count": 281,
   "metadata": {},
   "outputs": [
    {
     "name": "stdout",
     "output_type": "stream",
     "text": [
      "15519\n",
      "range(0, 15519)\n"
     ]
    },
    {
     "name": "stderr",
     "output_type": "stream",
     "text": [
      "/home/cy/anaconda3/lib/python3.7/site-packages/ipykernel_launcher.py:9: SettingWithCopyWarning: \n",
      "A value is trying to be set on a copy of a slice from a DataFrame\n",
      "\n",
      "See the caveats in the documentation: http://pandas.pydata.org/pandas-docs/stable/indexing.html#indexing-view-versus-copy\n",
      "  if __name__ == '__main__':\n",
      "/home/cy/anaconda3/lib/python3.7/site-packages/ipykernel_launcher.py:7: SettingWithCopyWarning: \n",
      "A value is trying to be set on a copy of a slice from a DataFrame\n",
      "\n",
      "See the caveats in the documentation: http://pandas.pydata.org/pandas-docs/stable/indexing.html#indexing-view-versus-copy\n",
      "  import sys\n"
     ]
    }
   ],
   "source": [
    "sLength = len(sp500['Close'])\n",
    "print(sLength)\n",
    "print(range(sLength))\n",
    "sp500['Average'] = pd.Series(np.zeros(sLength), index=sp500.index)\n",
    "for i in range(len(sp500['Close'])):\n",
    "    if i > 0:\n",
    "        sp500['Average'][i] = sp500['Close'][0] + avGrowth*i\n",
    "    else:\n",
    "        sp500['Average'][i] = float('NaN')"
   ]
  },
  {
   "cell_type": "code",
   "execution_count": 282,
   "metadata": {},
   "outputs": [],
   "source": [
    "#sp500"
   ]
  },
  {
   "cell_type": "code",
   "execution_count": 283,
   "metadata": {
    "scrolled": false
   },
   "outputs": [
    {
     "data": {
      "text/plain": [
       "Text(0.5,1,'Average Growth of the S & P 500')"
      ]
     },
     "execution_count": 283,
     "metadata": {},
     "output_type": "execute_result"
    },
    {
     "data": {
      "image/png": "[encoded data removed]",
      "text/plain": [
       "<Figure size 432x288 with 1 Axes>"
      ]
     },
     "metadata": {
      "needs_background": "light"
     },
     "output_type": "display_data"
    }
   ],
   "source": [
    "fig = figure(111)\n",
    "\n",
    "x1 = fig.add_subplot(111)\n",
    "x1.plot(sp500['Close'])\n",
    "#x1.plot(sp500['252d'], label = '252d')\n",
    "x1.plot(sp500['Average'], label = 'Average')\n",
    "x1.legend(bbox_to_anchor=(1.05, 1), loc=2, borderaxespad=0.)\n",
    "x1.grid(True)\n",
    "x1.set_ylabel('US-$')\n",
    "x1.set_title('Average Growth of the S & P 500')"
   ]
  },
  {
   "cell_type": "markdown",
   "metadata": {},
   "source": [
    " "
   ]
  }
 ],
 "metadata": {
  "kernelspec": {
   "display_name": "Python 3",
   "language": "python",
   "name": "python3"
  },
  "language_info": {
   "codemirror_mode": {
    "name": "ipython",
    "version": 3
   },
   "file_extension": ".py",
   "mimetype": "text/x-python",
   "name": "python",
   "nbconvert_exporter": "python",
   "pygments_lexer": "ipython3",
   "version": "3.7.0"
  }
 },
 "nbformat": 4,
 "nbformat_minor": 2
}

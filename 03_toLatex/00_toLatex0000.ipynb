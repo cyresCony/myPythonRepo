{
 "cells": [
  {
   "cell_type": "code",
   "execution_count": 1,
   "metadata": {},
   "outputs": [
    {
     "data": {
      "text/plain": [
       "(None, None)"
      ]
     },
     "execution_count": 1,
     "metadata": {},
     "output_type": "execute_result"
    }
   ],
   "source": [
    "import os,glob,subprocess\n",
    "\n",
    "header = r'''\\documentclass{article}\n",
    "\\begin{document}\n",
    "'''\n",
    "\n",
    "footer = r'''\\end{document}'''\n",
    "\n",
    "main = 'Im writing LaTeX with Python !'\n",
    "\n",
    "content = header + main + footer\n",
    "\n",
    "with open('myfile.tex','w') as f:\n",
    "     f.write(content)\n",
    "\n",
    "commandLine = subprocess.Popen(['pdflatex', 'myfile.tex'])\n",
    "commandLine.communicate()\n"
   ]
  },
  {
   "cell_type": "code",
   "execution_count": null,
   "metadata": {},
   "outputs": [],
   "source": []
  }
 ],
 "metadata": {
  "kernelspec": {
   "display_name": "Python 3",
   "language": "python",
   "name": "python3"
  },
  "language_info": {
   "codemirror_mode": {
    "name": "ipython",
    "version": 3
   },
   "file_extension": ".py",
   "mimetype": "text/x-python",
   "name": "python",
   "nbconvert_exporter": "python",
   "pygments_lexer": "ipython3",
   "version": "3.7.2"
  }
 },
 "nbformat": 4,
 "nbformat_minor": 2
}
